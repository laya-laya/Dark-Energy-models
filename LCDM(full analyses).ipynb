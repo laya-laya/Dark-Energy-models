{
 "cells": [
  {
   "cell_type": "code",
   "execution_count": 1,
   "metadata": {},
   "outputs": [],
   "source": [
    "import corner\n",
    "import emcee\n",
    "import numpy as np\n",
    "import matplotlib.pyplot as plt\n",
    "import scipy.constants as cte\n",
    "from scipy.integrate import quad\n",
    "from scipy.optimize import minimize\n",
    "from numpy.random import multivariate_normal\n",
    "from chainconsumer import ChainConsumer\n",
    "import matplotlib"
   ]
  },
  {
   "cell_type": "code",
   "execution_count": 2,
   "metadata": {},
   "outputs": [
    {
     "data": {
      "text/plain": [
       "<ErrorbarContainer object of 3 artists>"
      ]
     },
     "execution_count": 2,
     "metadata": {},
     "output_type": "execute_result"
    },
    {
     "data": {
      "image/png": "[encoded data removed]",
      "text/plain": [
       "<Figure size 432x288 with 1 Axes>"
      ]
     },
     "metadata": {
      "needs_background": "light"
     },
     "output_type": "display_data"
    }
   ],
   "source": [
    "z_obs, m_obs, dm_obs = np.loadtxt(\"SCPUnion2.1_mu_vs_z.dat\", unpack=True)\n",
    "\n",
    "# plot redshift vs distance modulus\n",
    "plt.xlabel(r\"$z$\")\n",
    "plt.ylabel(r\"$\\mu = m - M$\")\n",
    "plt.errorbar(z_obs, m_obs, dm_obs, fmt='r.' )\n"
   ]
  },
  {
   "cell_type": "markdown",
   "metadata": {},
   "source": [
    "## DATA SETS"
   ]
  },
  {
   "cell_type": "markdown",
   "metadata": {},
   "source": [
    "### CMB(first peak)"
   ]
  },
  {
   "cell_type": "code",
   "execution_count": 3,
   "metadata": {},
   "outputs": [],
   "source": [
    "l_cmb = 302.\n",
    "err_l_cmb = 0.2\n",
    "z_ls = 1090.\n",
    "\n",
    "theta_cmb = np.pi / l_cmb\n",
    "err_theta_cmb = err_l_cmb / l_cmb * theta_cmb"
   ]
  },
  {
   "cell_type": "markdown",
   "metadata": {},
   "source": [
    "### BAO"
   ]
  },
  {
   "cell_type": "code",
   "execution_count": 4,
   "metadata": {},
   "outputs": [],
   "source": [
    "bao_file = \"theta_bao.dat\"\n",
    "\n",
    "z_bao, theta_deg, err_theta_deg = np.loadtxt(bao_file, unpack=True)\n",
    "\n",
    "theta_bao = theta_deg * np.pi / 180.\n",
    "err_theta_bao = err_theta_deg * np.pi / 180."
   ]
  },
  {
   "cell_type": "markdown",
   "metadata": {},
   "source": [
    "### SN Ia"
   ]
  },
  {
   "cell_type": "code",
   "execution_count": 5,
   "metadata": {},
   "outputs": [],
   "source": [
    "z_sn, m_obs, dm_obs_stat = np.loadtxt(\"SCPUnion2.1_mu_vs_z.dat\", unpack=True)\n",
    "dm_syst = 0.0169\n",
    "dm_obs = np.sqrt(dm_syst + dm_obs_stat ** 2)"
   ]
  },
  {
   "cell_type": "markdown",
   "metadata": {},
   "source": [
    "### $\\Omega_mh^2$ and Riess 2019"
   ]
  },
  {
   "cell_type": "code",
   "execution_count": 6,
   "metadata": {},
   "outputs": [],
   "source": [
    "omgMh2_cmb = 0.1426\n",
    "omgMh2_cmb_error = 0.0020\n",
    "## Riess 2016 \n",
    "# H0 = 73.24 +/- 1.74\n",
    "H0_Riess = 73.24\n",
    "H0_Riess_error = 1.74\n"
   ]
  },
  {
   "cell_type": "markdown",
   "metadata": {},
   "source": [
    "## Strong Gravitational Lensing "
   ]
  },
  {
   "cell_type": "code",
   "execution_count": 7,
   "metadata": {},
   "outputs": [],
   "source": [
    "z_l, z_s, D_obs,err_D = np.loadtxt(\"sgl.dat\", unpack=True)"
   ]
  },
  {
   "cell_type": "code",
   "execution_count": 8,
   "metadata": {},
   "outputs": [],
   "source": [
    "def Ez(z, omgM):\n",
    "    Ez = np.sqrt((1 - omgM) + omgM * np.power(1 + z, 3))\n",
    "    return Ez\n",
    "\n",
    "\n",
    "def D_ls(z1,z2,om):\n",
    "    integral, _ = quad(Ez, z1, z2, epsrel=1e-8, args=(om))\n",
    "    return integral\n",
    "\n",
    "def D_s(z,om):\n",
    "    integral, _ = quad(Ez, 0, z, epsrel=1e-8, args=(om))\n",
    "    return integral\n",
    "    \n",
    "def D_A(z,z1,z2,om):\n",
    "    D = D_ls(z1,z2,om)/D_s(z,om)\n",
    "    return D\n"
   ]
  },
  {
   "cell_type": "code",
   "execution_count": 9,
   "metadata": {},
   "outputs": [],
   "source": [
    "def chisq_sgl(om,h):\n",
    "    for z1 in z_l:\n",
    "        for z2 in z_s:\n",
    "            D_lsmodel = np.array(D_ls(z1,z2,om))\n",
    "    for z in z_s:\n",
    "        D_smodel = np.array(D_s(z,om))\n",
    "    D_model = D_lsmodel/D_smodel\n",
    "    chisq = np.power(((D_model-D_obs)/err_D),2)\n",
    "    return chisq.sum()\n",
    "\n",
    "#print(chisq_sgl(0.3,0.7))"
   ]
  },
  {
   "cell_type": "markdown",
   "metadata": {},
   "source": [
    "# LCDM model"
   ]
  },
  {
   "cell_type": "code",
   "execution_count": 10,
   "metadata": {},
   "outputs": [],
   "source": [
    "def luminosity_integrand(z, omgM):\n",
    "    Ez = np.sqrt((1 - omgM) + omgM * np.power(1 + z, 3))\n",
    "    return 1. / Ez\n",
    "\n",
    "def luminosity_distance(z, h, omgM):\n",
    "    integral, _ = quad(luminosity_integrand, 0, z, epsrel=1e-8, args=(omgM))\n",
    "    return (cte.c / 10. ** 5) / h * (1 + z) * integral\n",
    "\n",
    "def distance_modulus(z, h, omgM):\n",
    "    return 5. * np.log10(luminosity_distance(z, h, omgM)) + 25."
   ]
  },
  {
   "cell_type": "code",
   "execution_count": 11,
   "metadata": {},
   "outputs": [],
   "source": [
    "def E_inverse(z, omgM):\n",
    "    Ez = np.sqrt((1 - omgM) + omgM * np.power(1 + z, 3))\n",
    "    return 1. / Ez\n",
    "\n",
    "def sound_horizon_integrand(z, omgM, omgB, omgG):\n",
    "    cs = np.power(3 + 9./4 * omgB / (omgG * z), -0.5)\n",
    "    return cs * E_inverse(z, omgM)\n",
    "\n",
    "def sound_horizon(z_star, omgM,omgB, omgG):\n",
    "    integral, _ = quad(sound_horizon_integrand, z_star, np.inf, args=(omgM,omgB, omgG))\n",
    "    return integral\n",
    "\n",
    "def angular_distance(z, omgM):\n",
    "    integral, _ = quad(E_inverse, 0, z, args=(omgM))\n",
    "    return integral\n",
    "\n",
    "def theta_model(z, z_star, omgM, omgR, omgB, omgG):\n",
    "    return sound_horizon(z_star, omgM, omgR, omgB, omgG) / angular_distance(z, omgM, omgR)"
   ]
  },
  {
   "cell_type": "code",
   "execution_count": 12,
   "metadata": {},
   "outputs": [],
   "source": [
    "h_fid = 0.73\n",
    "omgB_fid = 0.05\n",
    "omgG_fid = 5e-5\n",
    "omgM_fid = 0.3"
   ]
  },
  {
   "cell_type": "code",
   "execution_count": 13,
   "metadata": {},
   "outputs": [],
   "source": [
    "def chisq_sn(h, omgM):\n",
    "    m_model = np.array([distance_modulus(z, h, omgM) for z in z_sn])\n",
    "    chisq_vec = np.power(((m_model - m_obs) / dm_obs), 2)\n",
    "    return chisq_vec.sum()\n",
    "\n",
    "def chisq_cmb(omgM,omgB, omgG):\n",
    "    z_star_cmb = 1090\n",
    "    theta_cmb_model = theta_model(z_ls, z_star_cmb, omgM, omgB, omgG)\n",
    "    chisq = np.power( (theta_cmb_model - theta_cmb) / err_theta_cmb, 2 )\n",
    "    return chisq\n",
    "\n",
    "def chisq_bao(omgM,omgB, omgG):\n",
    "    z_star_bao = 1060\n",
    "    theta_bao_model = np.array([theta_model(z, z_star_bao, omgM,omgB, omgG) for z in z_bao])\n",
    "    chisq = np.sum( np.power( (theta_bao_model - theta_bao) / err_theta_bao, 2 ) )\n",
    "    return chisq\n",
    "\n",
    "def chisq_cmb_bao(omgM,omgB, omgG):\n",
    "    chisq = chisq_cmb(omgM,omgB, omgG) + \\\n",
    "            chisq_bao(omgM,omgB, omgG)\n",
    "    return chishq\n",
    "\n",
    "def chisq_cmb2(omgM,h):\n",
    "    omgMh2_cmb_model = omgM*(h**2)\n",
    "    chisq = np.power( (omgMh2_cmb_model - omgMh2_cmb) / omgMh2_cmb_error, 2 )\n",
    "    return chisq\n",
    "\n",
    "def chisq_Riess(h):\n",
    "    H0_Riess_model = 100*h\n",
    "    chisq = np.power( (H0_Riess_model - H0_Riess) / H0_Riess_error, 2 )\n",
    "    return chisq\n"
   ]
  },
  {
   "cell_type": "markdown",
   "metadata": {},
   "source": [
    "### SN Ia + $\\Omega_m h^2$"
   ]
  },
  {
   "cell_type": "code",
   "execution_count": 14,
   "metadata": {},
   "outputs": [],
   "source": [
    "def chisq_sn_om(pars):\n",
    "    h, omgM = pars\n",
    "    return chisq_cmb2(omgM,h) + chisq_sn(h, omgM)"
   ]
  },
  {
   "cell_type": "code",
   "execution_count": 15,
   "metadata": {},
   "outputs": [],
   "source": [
    "result_sn_om = minimize(chisq_sn_om, [h_fid, omgM_fid], bounds=((0.01, 1.), (0.01, 1.)))\n",
    "h_sn_om, omgM_sn_om = result_sn_om.x\n"
   ]
  },
  {
   "cell_type": "code",
   "execution_count": 16,
   "metadata": {},
   "outputs": [],
   "source": [
    "def lnprior(pars):\n",
    "    h, omgM = pars\n",
    "    if 0.0 < h and 0.0 < omgM < 1.0:\n",
    "        return 0.0\n",
    "    return -np.inf\n",
    "\n",
    "def lnlike_sn_om(pars):\n",
    "    h, omgM = pars\n",
    "    return -0.5 * chisq_sn_om([h, omgM])\n",
    "\n",
    "def lnprob_sn_om(pars):\n",
    "    lp = lnprior(pars)\n",
    "    if not np.isfinite(lp):\n",
    "        return -np.inf\n",
    "    return lp + lnlike_sn_om(pars)"
   ]
  },
  {
   "cell_type": "code",
   "execution_count": 17,
   "metadata": {},
   "outputs": [],
   "source": [
    "ndim, nwalkers, nsteps = 2, 50, 1000\n",
    "pos = [[h_sn_om, omgM_sn_om] + 1e-4*np.random.randn(ndim) for i in range(nwalkers)]\n",
    "\n",
    "# MCMC chain with 50 walkers and 1000 steps\n",
    "sampler1 = emcee.EnsembleSampler(nwalkers, ndim, lnprob_sn_om, threads=4)\n",
    "sampler1.run_mcmc(pos, nsteps)\n",
    "\n",
    "test_chain1 = sampler1.flatchain"
   ]
  },
  {
   "cell_type": "code",
   "execution_count": 29,
   "metadata": {},
   "outputs": [
    {
     "data": {
      "text/plain": [
       "<chainconsumer.chainconsumer.ChainConsumer at 0x1a1baf7290>"
      ]
     },
     "execution_count": 29,
     "metadata": {},
     "output_type": "execute_result"
    }
   ],
   "source": [
    "c = ChainConsumer()\n",
    "plot_test_chain1 = [test_chain1[:,0], test_chain1[:,1]]\n",
    "labels = [r\"$h$\",r\"$\\Omega_m$\"]\n",
    "c.add_chain(plot_test_chain1, parameters=labels, name=\"SNIa+CMP(perturbation)\")\n",
    "\n",
    "c.configure(legend_artists=True)\n",
    "#fig = c.plotter.plot()\n",
    "\n",
    "#matplotlib.pyplot.savefig('plt.png', dpi=520, format='png', bbox_inches='tight')"
   ]
  },
  {
   "cell_type": "markdown",
   "metadata": {},
   "source": [
    "### SN Ia + $\\Omega_mh^2$ + BAO"
   ]
  },
  {
   "cell_type": "code",
   "execution_count": 131,
   "metadata": {},
   "outputs": [],
   "source": [
    "def chisq_sn_bao(pars):\n",
    "    h, omgM = pars\n",
    "    return chisq_bao(omgM,omgB_fid, omgG_fid) + chisq_sn(h, omgM) + chisq_cmb2(omgM,h)"
   ]
  },
  {
   "cell_type": "code",
   "execution_count": 63,
   "metadata": {},
   "outputs": [],
   "source": [
    "result_sn_bao = minimize(chisq_sn_bao, [h_fid, omgM_fid], bounds=((0.01, 1.), (0.01, 1.)))\n",
    "h_sn_bao, omgM_sn_bao = result_sn_bao.x"
   ]
  },
  {
   "cell_type": "code",
   "execution_count": 64,
   "metadata": {},
   "outputs": [],
   "source": [
    "def lnprior(pars):\n",
    "    h, omgM = pars\n",
    "    if 0.0 < h and 0.0 < omgM < 1.0:\n",
    "        return 0.0\n",
    "    return -np.inf\n",
    "\n",
    "def lnlike_sn_bao(pars):\n",
    "    h, omgM = pars\n",
    "    return -0.5 * chisq_sn_bao([h, omgM])\n",
    "\n",
    "def lnprob_sn_bao(pars):\n",
    "    lp = lnprior(pars)\n",
    "    if not np.isfinite(lp):\n",
    "        return -np.inf\n",
    "    return lp + lnlike_sn_bao(pars)"
   ]
  },
  {
   "cell_type": "code",
   "execution_count": 65,
   "metadata": {},
   "outputs": [],
   "source": [
    "# initial position at maximum likelihood values\n",
    "ndim, nwalkers, nsteps = 2, 50, 1000\n",
    "pos = [[h_sn_bao, omgM_sn_bao] + 1e-4*np.random.randn(ndim) for i in range(nwalkers)]\n",
    "\n",
    "# MCMC chain with 50 walkers and 1000 steps\n",
    "sampler2 = emcee.EnsembleSampler(nwalkers, ndim, lnprob_sn_bao, threads=4)\n",
    "sampler2.run_mcmc(pos, nsteps)\n",
    "test_chain2 = sampler2.flatchain"
   ]
  },
  {
   "cell_type": "code",
   "execution_count": 27,
   "metadata": {},
   "outputs": [
    {
     "ename": "NameError",
     "evalue": "name 'test_chain2' is not defined",
     "output_type": "error",
     "traceback": [
      "\u001b[0;31m---------------------------------------------------------------------------\u001b[0m",
      "\u001b[0;31mNameError\u001b[0m                                 Traceback (most recent call last)",
      "\u001b[0;32m<ipython-input-27-c4337882091c>\u001b[0m in \u001b[0;36m<module>\u001b[0;34m\u001b[0m\n\u001b[1;32m      1\u001b[0m \u001b[0mc\u001b[0m \u001b[0;34m=\u001b[0m \u001b[0mChainConsumer\u001b[0m\u001b[0;34m(\u001b[0m\u001b[0;34m)\u001b[0m\u001b[0;34m\u001b[0m\u001b[0;34m\u001b[0m\u001b[0m\n\u001b[0;32m----> 2\u001b[0;31m \u001b[0mplot_test_chain2\u001b[0m \u001b[0;34m=\u001b[0m \u001b[0;34m[\u001b[0m\u001b[0mtest_chain2\u001b[0m\u001b[0;34m[\u001b[0m\u001b[0;34m:\u001b[0m\u001b[0;34m,\u001b[0m\u001b[0;36m0\u001b[0m\u001b[0;34m]\u001b[0m\u001b[0;34m,\u001b[0m \u001b[0mtest_chain2\u001b[0m\u001b[0;34m[\u001b[0m\u001b[0;34m:\u001b[0m\u001b[0;34m,\u001b[0m\u001b[0;36m1\u001b[0m\u001b[0;34m]\u001b[0m\u001b[0;34m]\u001b[0m\u001b[0;34m\u001b[0m\u001b[0;34m\u001b[0m\u001b[0m\n\u001b[0m\u001b[1;32m      3\u001b[0m \u001b[0mlabels\u001b[0m \u001b[0;34m=\u001b[0m \u001b[0;34m[\u001b[0m\u001b[0;34mr\"$h$\"\u001b[0m\u001b[0;34m,\u001b[0m\u001b[0;34mr\"$\\Omega_m$\"\u001b[0m\u001b[0;34m]\u001b[0m\u001b[0;34m\u001b[0m\u001b[0;34m\u001b[0m\u001b[0m\n\u001b[1;32m      4\u001b[0m \u001b[0mc\u001b[0m\u001b[0;34m.\u001b[0m\u001b[0madd_chain\u001b[0m\u001b[0;34m(\u001b[0m\u001b[0mplot_test_chain2\u001b[0m\u001b[0;34m,\u001b[0m \u001b[0mparameters\u001b[0m\u001b[0;34m=\u001b[0m\u001b[0mlabels\u001b[0m\u001b[0;34m,\u001b[0m \u001b[0mname\u001b[0m\u001b[0;34m=\u001b[0m\u001b[0;34m\"jjk\"\u001b[0m\u001b[0;34m)\u001b[0m\u001b[0;34m\u001b[0m\u001b[0;34m\u001b[0m\u001b[0m\n\u001b[1;32m      5\u001b[0m \u001b[0;34m\u001b[0m\u001b[0m\n",
      "\u001b[0;31mNameError\u001b[0m: name 'test_chain2' is not defined"
     ]
    }
   ],
   "source": [
    "c = ChainConsumer()\n",
    "plot_test_chain2 = [test_chain2[:,0], test_chain2[:,1]]\n",
    "labels = [r\"$h$\",r\"$\\Omega_m$\"]\n",
    "c.add_chain(plot_test_chain2, parameters=labels, name=\"jjk\")\n",
    "\n",
    "fig = c.plotter.plot()"
   ]
  },
  {
   "cell_type": "markdown",
   "metadata": {},
   "source": [
    "### SN Ia + $\\Omega_mh^2$ + CMB(first peak)"
   ]
  },
  {
   "cell_type": "code",
   "execution_count": 19,
   "metadata": {},
   "outputs": [],
   "source": [
    "theta = 1.04085\n",
    "err_theta = 0.00047\n",
    "r_star = 144.61\n",
    "z_star =  1090.09\n",
    "c = 3000.0"
   ]
  },
  {
   "cell_type": "code",
   "execution_count": 20,
   "metadata": {},
   "outputs": [],
   "source": [
    "def d_A(om):\n",
    "    I,_ = quad(E_inverse, 0, z_star, args=(om))\n",
    "    return I\n",
    "\n",
    "\n",
    "def theta_modell(om,h):\n",
    "    \n",
    "    theta = (r_star*h)/(c*(d_A(om)))\n",
    "    return (100*theta)\n",
    "\n",
    "def chisq_first_CMB(om,h):\n",
    "    chisq = ( np.power( (theta_modell(om,h) - theta) / err_theta, 2 ) )\n",
    "    return chisq\n"
   ]
  },
  {
   "cell_type": "code",
   "execution_count": 21,
   "metadata": {},
   "outputs": [],
   "source": [
    "def chisq_sn_cmb(pars):\n",
    "    h, omgM = pars\n",
    "    return chisq_first_CMB(omgM,h) + chisq_sn(h, omgM) + chisq_cmb2(omgM,h)"
   ]
  },
  {
   "cell_type": "code",
   "execution_count": 22,
   "metadata": {},
   "outputs": [],
   "source": [
    "result_sn_cmb = minimize(chisq_sn_cmb, [h_fid, omgM_fid], bounds=((0.01, 1.), (0.01, 1.)))\n",
    "h_sn_cmb, omgM_sn_cmb = result_sn_cmb.x"
   ]
  },
  {
   "cell_type": "code",
   "execution_count": 23,
   "metadata": {},
   "outputs": [],
   "source": [
    "def lnprior(pars):\n",
    "    h, omgM = pars\n",
    "    if 0.0 < h and 0.0 < omgM < 1.0:\n",
    "        return 0.0\n",
    "    return -np.inf\n",
    "\n",
    "def lnlike_sn_cmb(pars):\n",
    "    h, omgM = pars\n",
    "    return -0.5 * chisq_sn_cmb([h, omgM])\n",
    "\n",
    "def lnprob_sn_cmb(pars):\n",
    "    lp = lnprior(pars)\n",
    "    if not np.isfinite(lp):\n",
    "        return -np.inf\n",
    "    return lp + lnlike_sn_cmb(pars)\n"
   ]
  },
  {
   "cell_type": "code",
   "execution_count": 24,
   "metadata": {},
   "outputs": [],
   "source": [
    "ndim, nwalkers, nsteps = 2, 50, 1000\n",
    "pos = [[h_sn_cmb, omgM_sn_cmb] + 1e-4*np.random.randn(ndim) for i in range(nwalkers)]\n",
    "\n",
    "sampler3 = emcee.EnsembleSampler(nwalkers, ndim, lnprob_sn_cmb, threads=4)\n",
    "sampler3.run_mcmc(pos, nsteps)\n",
    "test_chain3 = sampler3.flatchain"
   ]
  },
  {
   "cell_type": "code",
   "execution_count": 26,
   "metadata": {},
   "outputs": [
    {
     "ename": "AttributeError",
     "evalue": "'float' object has no attribute 'add_chain'",
     "output_type": "error",
     "traceback": [
      "\u001b[0;31m---------------------------------------------------------------------------\u001b[0m",
      "\u001b[0;31mAttributeError\u001b[0m                            Traceback (most recent call last)",
      "\u001b[0;32m<ipython-input-26-0e2ee2e74da5>\u001b[0m in \u001b[0;36m<module>\u001b[0;34m\u001b[0m\n\u001b[1;32m      1\u001b[0m \u001b[0mplot_test_chain3\u001b[0m \u001b[0;34m=\u001b[0m \u001b[0;34m[\u001b[0m\u001b[0mtest_chain3\u001b[0m\u001b[0;34m[\u001b[0m\u001b[0;34m:\u001b[0m\u001b[0;34m,\u001b[0m\u001b[0;36m0\u001b[0m\u001b[0;34m]\u001b[0m\u001b[0;34m,\u001b[0m \u001b[0mtest_chain3\u001b[0m\u001b[0;34m[\u001b[0m\u001b[0;34m:\u001b[0m\u001b[0;34m,\u001b[0m\u001b[0;36m1\u001b[0m\u001b[0;34m]\u001b[0m\u001b[0;34m]\u001b[0m\u001b[0;34m\u001b[0m\u001b[0;34m\u001b[0m\u001b[0m\n\u001b[1;32m      2\u001b[0m \u001b[0mlabels\u001b[0m \u001b[0;34m=\u001b[0m \u001b[0;34m[\u001b[0m\u001b[0;34mr\"$h$\"\u001b[0m\u001b[0;34m,\u001b[0m\u001b[0;34mr\"$\\Omega_m$\"\u001b[0m\u001b[0;34m]\u001b[0m\u001b[0;34m\u001b[0m\u001b[0;34m\u001b[0m\u001b[0m\n\u001b[0;32m----> 3\u001b[0;31m \u001b[0mc\u001b[0m\u001b[0;34m.\u001b[0m\u001b[0madd_chain\u001b[0m\u001b[0;34m(\u001b[0m\u001b[0mplot_test_chain3\u001b[0m\u001b[0;34m,\u001b[0m \u001b[0mparameters\u001b[0m\u001b[0;34m=\u001b[0m\u001b[0mlabels\u001b[0m\u001b[0;34m,\u001b[0m \u001b[0mname\u001b[0m\u001b[0;34m=\u001b[0m\u001b[0;34m\"SNIa+CMB(first peak and perturbation)\"\u001b[0m\u001b[0;34m)\u001b[0m\u001b[0;34m\u001b[0m\u001b[0;34m\u001b[0m\u001b[0m\n\u001b[0m\u001b[1;32m      4\u001b[0m \u001b[0;34m\u001b[0m\u001b[0m\n\u001b[1;32m      5\u001b[0m \u001b[0;31m#fig = c.plotter.plot()\u001b[0m\u001b[0;34m\u001b[0m\u001b[0;34m\u001b[0m\u001b[0;34m\u001b[0m\u001b[0m\n",
      "\u001b[0;31mAttributeError\u001b[0m: 'float' object has no attribute 'add_chain'"
     ]
    }
   ],
   "source": [
    "plot_test_chain3 = [test_chain3[:,0], test_chain3[:,1]]\n",
    "labels = [r\"$h$\",r\"$\\Omega_m$\"]\n",
    "c.add_chain(plot_test_chain3, parameters=labels, name=\"SNIa+CMB(first peak and perturbation)\")\n",
    "\n",
    "#fig = c.plotter.plot()"
   ]
  },
  {
   "cell_type": "markdown",
   "metadata": {},
   "source": [
    "### SN Ia + $\\Omega_mh^2$ + Riess 2019"
   ]
  },
  {
   "cell_type": "code",
   "execution_count": 31,
   "metadata": {},
   "outputs": [],
   "source": [
    "def chisq_sn_cmb_R19(pars):\n",
    "    h, omgM = pars\n",
    "    return chisq_sn(h, omgM) + chisq_Riess(h) + chisq_cmb2(omgM,h)"
   ]
  },
  {
   "cell_type": "code",
   "execution_count": 32,
   "metadata": {},
   "outputs": [],
   "source": [
    "result_sn_cmb_R19 = minimize(chisq_sn_cmb_R19, [h_fid, omgM_fid], bounds=((0.01, 1.), (0.01, 1.)))\n",
    "h_sn_cmb_R19, omgM_sn_cmb_R19 = result_sn_cmb_R19.x"
   ]
  },
  {
   "cell_type": "code",
   "execution_count": 33,
   "metadata": {},
   "outputs": [],
   "source": [
    "def lnprior(pars):\n",
    "    h, omgM = pars\n",
    "    if 0.0 < h and 0.0 < omgM < 1.0:\n",
    "        return 0.0\n",
    "    return -np.inf\n",
    "\n",
    "def lnlike_sn_cmb_R19(pars):\n",
    "    h, omgM = pars\n",
    "    return -0.5 * chisq_sn_cmb_R19([h, omgM])\n",
    "\n",
    "def lnprob_sn_cmb_R19(pars):\n",
    "    lp = lnprior(pars)\n",
    "    if not np.isfinite(lp):\n",
    "        return -np.inf\n",
    "    return lp + lnlike_sn_cmb_R19(pars)"
   ]
  },
  {
   "cell_type": "code",
   "execution_count": null,
   "metadata": {},
   "outputs": [],
   "source": [
    "ndim, nwalkers, nsteps = 2, 50, 1000\n",
    "pos = [[h_sn_cmb_R19, omgM_sn_cmb_R19] + 1e-4*np.random.randn(ndim) for i in range(nwalkers)]\n",
    "\n",
    "# MCMC chain with 50 walkers and 1000 steps\n",
    "sampler4 = emcee.EnsembleSampler(nwalkers, ndim, lnprob_sn_cmb_R19, threads=4)\n",
    "sampler4.run_mcmc(pos, nsteps)\n",
    "\n",
    "test_chain4 = sampler4.flatchain"
   ]
  },
  {
   "cell_type": "code",
   "execution_count": 30,
   "metadata": {},
   "outputs": [
    {
     "data": {
      "image/png": "[encoded data removed]",
      "text/plain": [
       "<Figure size 216x216 with 4 Axes>"
      ]
     },
     "metadata": {
      "needs_background": "light"
     },
     "output_type": "display_data"
    }
   ],
   "source": [
    "plot_test_chain4 = [test_chain4[:,0], test_chain4[:,1]]\n",
    "labels = [r\"$h$\",r\"$\\Omega_m$\"]\n",
    "c.add_chain(plot_test_chain4, parameters=labels, name=\"SNIa+CMB+Riess2019\")\n",
    "\n",
    "#fig = c4.plotter.plot()"
   ]
  },
  {
   "cell_type": "markdown",
   "metadata": {},
   "source": [
    "### SN Ia + $\\Omega_mh^2$ + CMB+SGL"
   ]
  },
  {
   "cell_type": "code",
   "execution_count": null,
   "metadata": {},
   "outputs": [],
   "source": [
    "def chisq_sn_cmb_sgl(pars):\n",
    "    h, omgM = pars\n",
    "    return chisq_sn(h, omgM) + chisq_cmb2(omgM,h) + chisq_first_CMB(omgM,h) + chisq_sgl(om,h)"
   ]
  },
  {
   "cell_type": "code",
   "execution_count": null,
   "metadata": {},
   "outputs": [],
   "source": [
    "result_sn_cmb_sgl = minimize(chisq_sn_cmb_sgl, [h_fid, omgM_fid], bounds=((0.01, 1.), (0.01, 1.)))\n",
    "h_sn_cmb_sgl, omgM_sn_cmb_sgl = result_sn_cmb_sgl.x"
   ]
  },
  {
   "cell_type": "code",
   "execution_count": null,
   "metadata": {},
   "outputs": [],
   "source": [
    "def lnprior(pars):\n",
    "    h, omgM = pars\n",
    "    if 0.0 < h and 0.0 < omgM < 1.0:\n",
    "        return 0.0\n",
    "    return -np.inf\n",
    "\n",
    "def lnlike_sn_cmb_sgl(pars):\n",
    "    h, omgM = pars\n",
    "    return -0.5 * chisq_sn_cmb_sgl([h, omgM])\n",
    "\n",
    "def lnprob_sn_cmb_sgl(pars):\n",
    "    lp = lnprior(pars)\n",
    "    if not np.isfinite(lp):\n",
    "        return -np.inf\n",
    "    return lp + lnlike_sn_cmb_sgl(pars)"
   ]
  },
  {
   "cell_type": "code",
   "execution_count": null,
   "metadata": {},
   "outputs": [],
   "source": [
    "ndim, nwalkers, nsteps = 2, 50, 1000\n",
    "pos = [[h_sn_cmb_sgl, omgM_sn_cmb_sgl] + 1e-4*np.random.randn(ndim) for i in range(nwalkers)]\n",
    "\n",
    "# MCMC chain with 50 walkers and 1000 steps\n",
    "sampler5 = emcee.EnsembleSampler(nwalkers, ndim, lnprob_sn_cmb_sgl, threads=4)\n",
    "sampler5.run_mcmc(pos, nsteps)\n",
    "\n",
    "test_chain5 = sampler5.flatchain"
   ]
  },
  {
   "cell_type": "code",
   "execution_count": null,
   "metadata": {},
   "outputs": [],
   "source": [
    "plot_test_chain5 = [test_chain5[:,0], test_chain5[:,1]]\n",
    "labels = [r\"$h$\",r\"$\\Omega_m$\"]\n",
    "c.add_chain(plot_test_chain5, parameters=labels, name=\"SNIa+CMB+SGL\")"
   ]
  },
  {
   "cell_type": "code",
   "execution_count": null,
   "metadata": {},
   "outputs": [],
   "source": []
  },
  {
   "cell_type": "code",
   "execution_count": null,
   "metadata": {},
   "outputs": [],
   "source": [
    "c = ChainConsumer()\n",
    "plot_test_chain1 = [test_chain1[:,0], test_chain1[:,1]]\n",
    "plot_test_chain3 = [test_chain3[:,0], test_chain3[:,1]]\n",
    "plot_test_chain4 = [test_chain4[:,0], test_chain4[:,1]]\n",
    "plot_test_chain5 = [test_chain5[:,0], test_chain5[:,1]]\n",
    "\n",
    "labels = [r\"$h$\",r\"$\\Omega_m$\"]\n",
    "c.add_chain(plot_test_chain1, parameters=labels, name=\"SNIa+CMP(perturbation)\")\n",
    "c.add_chain(plot_test_chain3, parameters=labels, name=\"SNIa+CMB(first peak and perturbation)\")\n",
    "c.add_chain(plot_test_chain4, parameters=labels, name=\"SNIa+CMB+Riess2019\")\n",
    "c.add_chain(plot_test_chain5, parameters=labels, name=\"SNIa+CMB+SGL\")\n",
    "\n",
    "c.configure(legend_artists=True)\n",
    "fig = c.plotter.plot()\n",
    "\n",
    "matplotlib.pyplot.savefig('plt.png', dpi=520, format='png', bbox_inches='tight')"
   ]
  }
 ],
 "metadata": {
  "kernelspec": {
   "display_name": "Python 3",
   "language": "python",
   "name": "python3"
  },
  "language_info": {
   "codemirror_mode": {
    "name": "ipython",
    "version": 3
   },
   "file_extension": ".py",
   "mimetype": "text/x-python",
   "name": "python",
   "nbconvert_exporter": "python",
   "pygments_lexer": "ipython3",
   "version": "3.7.4"
  }
 },
 "nbformat": 4,
 "nbformat_minor": 2
}
